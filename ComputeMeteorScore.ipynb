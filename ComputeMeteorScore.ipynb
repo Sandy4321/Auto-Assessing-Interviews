{
  "nbformat": 4,
  "nbformat_minor": 0,
  "metadata": {
    "colab": {
      "provenance": []
    },
    "kernelspec": {
      "name": "python3",
      "display_name": "Python 3"
    },
    "language_info": {
      "name": "python"
    }
  },
  "cells": [
    {
      "cell_type": "code",
      "execution_count": null,
      "metadata": {
        "colab": {
          "base_uri": "https://localhost:8080/"
        },
        "id": "Q17ghrvsNcEZ",
        "outputId": "4c917841-4b7b-4ac5-b742-cbdf83661f65"
      },
      "outputs": [
        {
          "output_type": "stream",
          "name": "stdout",
          "text": [
            "Requirement already satisfied: nltk in /usr/local/lib/python3.10/dist-packages (3.8.1)\n",
            "Requirement already satisfied: pandas in /usr/local/lib/python3.10/dist-packages (1.5.3)\n",
            "Requirement already satisfied: click in /usr/local/lib/python3.10/dist-packages (from nltk) (8.1.7)\n",
            "Requirement already satisfied: joblib in /usr/local/lib/python3.10/dist-packages (from nltk) (1.3.2)\n",
            "Requirement already satisfied: regex>=2021.8.3 in /usr/local/lib/python3.10/dist-packages (from nltk) (2023.6.3)\n",
            "Requirement already satisfied: tqdm in /usr/local/lib/python3.10/dist-packages (from nltk) (4.66.1)\n",
            "Requirement already satisfied: python-dateutil>=2.8.1 in /usr/local/lib/python3.10/dist-packages (from pandas) (2.8.2)\n",
            "Requirement already satisfied: pytz>=2020.1 in /usr/local/lib/python3.10/dist-packages (from pandas) (2023.3.post1)\n",
            "Requirement already satisfied: numpy>=1.21.0 in /usr/local/lib/python3.10/dist-packages (from pandas) (1.23.5)\n",
            "Requirement already satisfied: six>=1.5 in /usr/local/lib/python3.10/dist-packages (from python-dateutil>=2.8.1->pandas) (1.16.0)\n"
          ]
        }
      ],
      "source": [
        "!pip install nltk pandas"
      ]
    },
    {
      "cell_type": "code",
      "source": [
        "import pandas as pd\n",
        "import nltk\n",
        "from nltk.translate import meteor_score\n",
        "nltk.download(\"wordnet\")"
      ],
      "metadata": {
        "colab": {
          "base_uri": "https://localhost:8080/"
        },
        "id": "EVc2ajcbOM-l",
        "outputId": "9ba0702c-ea48-4cc1-e369-282d98dd9d57"
      },
      "execution_count": null,
      "outputs": [
        {
          "output_type": "stream",
          "name": "stderr",
          "text": [
            "[nltk_data] Downloading package wordnet to /root/nltk_data...\n"
          ]
        },
        {
          "output_type": "execute_result",
          "data": {
            "text/plain": [
              "True"
            ]
          },
          "metadata": {},
          "execution_count": 2
        }
      ]
    },
    {
      "cell_type": "code",
      "source": [
        "# Replace 'your_file.csv' with the actual file path\n",
        "df = pd.read_csv('/content/LLAMA_8avgscores_90-10_10_2e-4_0.001 - LLAMA_8avgscores_90-10_10_2e-4_0.001.csv')"
      ],
      "metadata": {
        "id": "C2EDqt0BOSL0"
      },
      "execution_count": null,
      "outputs": []
    },
    {
      "cell_type": "code",
      "source": [
        "from nltk.tokenize import word_tokenize"
      ],
      "metadata": {
        "id": "QUXRjovBPIHf"
      },
      "execution_count": null,
      "outputs": []
    },
    {
      "cell_type": "code",
      "source": [
        "nltk.download('punkt')"
      ],
      "metadata": {
        "colab": {
          "base_uri": "https://localhost:8080/"
        },
        "id": "W5EJX_DwPNoe",
        "outputId": "960e208f-d1fc-42e7-e252-037379e575b5"
      },
      "execution_count": null,
      "outputs": [
        {
          "output_type": "stream",
          "name": "stderr",
          "text": [
            "[nltk_data] Downloading package punkt to /root/nltk_data...\n",
            "[nltk_data]   Unzipping tokenizers/punkt.zip.\n"
          ]
        },
        {
          "output_type": "execute_result",
          "data": {
            "text/plain": [
              "True"
            ]
          },
          "metadata": {},
          "execution_count": 5
        }
      ]
    },
    {
      "cell_type": "code",
      "source": [
        "meteor_scores = []\n",
        "\n",
        "for index, row in df.iterrows():\n",
        "    actual_text = row['Actual Text']  # Replace with your actual column name\n",
        "    generated_text = row['Generated Text']  # Replace with your generated column name\n",
        "\n",
        "    # Tokenize the text\n",
        "    actual_tokens = word_tokenize(actual_text)\n",
        "    generated_tokens = word_tokenize(generated_text)\n",
        "\n",
        "    # Calculate the METEOR score\n",
        "    score = meteor_score.meteor_score([actual_tokens], generated_tokens)\n",
        "    meteor_scores.append(score)"
      ],
      "metadata": {
        "id": "OSeaSGtPOhmK"
      },
      "execution_count": null,
      "outputs": []
    },
    {
      "cell_type": "code",
      "source": [
        "average_meteor_score = sum(meteor_scores) / len(meteor_scores)\n",
        "min_meteor_score = min(meteor_scores)\n",
        "max_meteor_score = max(meteor_scores)\n",
        "\n",
        "print(f\"Maximum METEOR Score: {max_meteor_score}\")\n",
        "print(f\"Minimum METEOR Score: {min_meteor_score}\")\n",
        "print(f\"Average METEOR Score: {average_meteor_score}\")"
      ],
      "metadata": {
        "colab": {
          "base_uri": "https://localhost:8080/"
        },
        "id": "EAhEptGcOm6a",
        "outputId": "796ed1a1-1f2b-4b41-d7fa-cc5964a18e95"
      },
      "execution_count": null,
      "outputs": [
        {
          "output_type": "stream",
          "name": "stdout",
          "text": [
            "Maximum METEOR Score: 0.48889936409346346\n",
            "Minimum METEOR Score: 0.08361204013377926\n",
            "Average METEOR Score: 0.20803401967582236\n"
          ]
        }
      ]
    },
    {
      "cell_type": "code",
      "source": [],
      "metadata": {
        "id": "PoAhKdIwPTfk"
      },
      "execution_count": null,
      "outputs": []
    }
  ]
}